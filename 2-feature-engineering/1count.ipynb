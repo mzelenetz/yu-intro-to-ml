{
 "cells": [
  {
   "cell_type": "code",
   "execution_count": 1,
   "metadata": {},
   "outputs": [],
   "source": [
    "import pandas as pd \n",
    "from sklearn.datasets import load_files\n",
    "from sklearn.feature_extraction.text import CountVectorizer\n",
    "import os"
   ]
  },
  {
   "cell_type": "code",
   "execution_count": 2,
   "metadata": {},
   "outputs": [],
   "source": [
    "filepath = '/Users/michaelzelenetz/Documents/Teaching/Intro to ML/yu-intro-to-ml/2-feature-engineering/data/movie_reviews'"
   ]
  },
  {
   "cell_type": "code",
   "execution_count": 3,
   "metadata": {},
   "outputs": [],
   "source": [
    "movie = load_files(filepath, shuffle=True)"
   ]
  },
  {
   "cell_type": "code",
   "execution_count": 4,
   "metadata": {},
   "outputs": [],
   "source": [
    "vectorizer = CountVectorizer(min_df=3, max_features=100)\n",
    "docs_counts = vectorizer.fit_transform(movie.data)\n"
   ]
  },
  {
   "cell_type": "code",
   "execution_count": 5,
   "metadata": {},
   "outputs": [
    {
     "data": {
      "text/plain": [
       "[2,\n",
       " 2,\n",
       " 2,\n",
       " 0,\n",
       " 0,\n",
       " 9,\n",
       " 0,\n",
       " 3,\n",
       " 0,\n",
       " 0,\n",
       " 0,\n",
       " 2,\n",
       " 2,\n",
       " 3,\n",
       " 2,\n",
       " 1,\n",
       " 0,\n",
       " 0,\n",
       " 0,\n",
       " 2,\n",
       " 0,\n",
       " 0,\n",
       " 6,\n",
       " 2,\n",
       " 0,\n",
       " 4,\n",
       " 2,\n",
       " 2,\n",
       " 1,\n",
       " 0,\n",
       " 1,\n",
       " 0,\n",
       " 1,\n",
       " 2,\n",
       " 2,\n",
       " 4,\n",
       " 1,\n",
       " 2,\n",
       " 7,\n",
       " 1,\n",
       " 8,\n",
       " 3,\n",
       " 0,\n",
       " 3,\n",
       " 0,\n",
       " 2,\n",
       " 0,\n",
       " 2,\n",
       " 1,\n",
       " 1,\n",
       " 1,\n",
       " 0,\n",
       " 1,\n",
       " 2,\n",
       " 9,\n",
       " 0,\n",
       " 2,\n",
       " 0,\n",
       " 1,\n",
       " 1,\n",
       " 0,\n",
       " 1,\n",
       " 1,\n",
       " 0,\n",
       " 0,\n",
       " 1,\n",
       " 0,\n",
       " 2,\n",
       " 1,\n",
       " 2,\n",
       " 0,\n",
       " 1,\n",
       " 6,\n",
       " 30,\n",
       " 2,\n",
       " 2,\n",
       " 1,\n",
       " 4,\n",
       " 0,\n",
       " 6,\n",
       " 0,\n",
       " 15,\n",
       " 0,\n",
       " 3,\n",
       " 3,\n",
       " 0,\n",
       " 2,\n",
       " 0,\n",
       " 0,\n",
       " 0,\n",
       " 2,\n",
       " 1,\n",
       " 0,\n",
       " 2,\n",
       " 0,\n",
       " 2,\n",
       " 2,\n",
       " 4,\n",
       " 0,\n",
       " 6]"
      ]
     },
     "execution_count": 5,
     "metadata": {},
     "output_type": "execute_result"
    }
   ],
   "source": [
    "docs_counts.toarray()[9].tolist()"
   ]
  },
  {
   "cell_type": "code",
   "execution_count": 7,
   "metadata": {},
   "outputs": [
    {
     "data": {
      "text/plain": [
       "{'has': 30,\n",
       " 'been': 12,\n",
       " 'an': 4,\n",
       " 'for': 25,\n",
       " 'the': 73,\n",
       " 'but': 13,\n",
       " 'his': 35,\n",
       " 'films': 23,\n",
       " 'have': 31,\n",
       " 'very': 85,\n",
       " 'and': 5,\n",
       " 'one': 57,\n",
       " 'are': 7,\n",
       " 'it': 41,\n",
       " 'as': 8,\n",
       " 'in': 38,\n",
       " 'when': 91,\n",
       " 'he': 32,\n",
       " 'of': 54,\n",
       " 'what': 90,\n",
       " 'to': 81,\n",
       " 'him': 34,\n",
       " 'do': 19,\n",
       " 'that': 72,\n",
       " 'can': 15,\n",
       " 'with': 97,\n",
       " 'even': 21,\n",
       " 'this': 79,\n",
       " 'so': 68,\n",
       " 'which': 93,\n",
       " 'is': 40,\n",
       " 'they': 78,\n",
       " 'will': 96,\n",
       " 'at': 9,\n",
       " 'over': 62,\n",
       " 'would': 98,\n",
       " 'film': 22,\n",
       " 'than': 71,\n",
       " 'other': 60,\n",
       " 'not': 53,\n",
       " 'like': 45,\n",
       " 'movie': 50,\n",
       " 'just': 43,\n",
       " 'you': 99,\n",
       " 'see': 66,\n",
       " 'well': 89,\n",
       " 'where': 92,\n",
       " 'character': 16,\n",
       " 'was': 86,\n",
       " 'had': 29,\n",
       " 'be': 10,\n",
       " 'some': 69,\n",
       " 'much': 51,\n",
       " 'there': 77,\n",
       " 'any': 6,\n",
       " 'or': 59,\n",
       " 'make': 47,\n",
       " 'more': 48,\n",
       " 'if': 37,\n",
       " 'also': 3,\n",
       " 'really': 65,\n",
       " 'no': 52,\n",
       " 'all': 2,\n",
       " 'who': 95,\n",
       " 'into': 39,\n",
       " 'could': 18,\n",
       " 'how': 36,\n",
       " 'get': 27,\n",
       " 'because': 11,\n",
       " 'does': 20,\n",
       " 'we': 88,\n",
       " 'good': 28,\n",
       " 'life': 44,\n",
       " 'two': 83,\n",
       " 'story': 70,\n",
       " 'on': 56,\n",
       " 'by': 14,\n",
       " 'while': 94,\n",
       " 'up': 84,\n",
       " 'only': 58,\n",
       " 'off': 55,\n",
       " 'her': 33,\n",
       " 'most': 49,\n",
       " 'their': 74,\n",
       " 'out': 61,\n",
       " 'from': 26,\n",
       " 'too': 82,\n",
       " 'its': 42,\n",
       " 'characters': 17,\n",
       " 'about': 0,\n",
       " 'after': 1,\n",
       " 'first': 24,\n",
       " 'plot': 64,\n",
       " 'time': 80,\n",
       " 'them': 75,\n",
       " 'she': 67,\n",
       " 'people': 63,\n",
       " 'then': 76,\n",
       " 'way': 87,\n",
       " 'little': 46}"
      ]
     },
     "execution_count": 7,
     "metadata": {},
     "output_type": "execute_result"
    }
   ],
   "source": [
    "vectorizer.vocabulary_"
   ]
  },
  {
   "cell_type": "markdown",
   "metadata": {},
   "source": [
    "## Example: See it in action"
   ]
  },
  {
   "cell_type": "code",
   "execution_count": 9,
   "metadata": {},
   "outputs": [],
   "source": [
    "from sklearn.model_selection import train_test_split"
   ]
  },
  {
   "cell_type": "code",
   "execution_count": 27,
   "metadata": {},
   "outputs": [],
   "source": [
    "X_train, X_test, y_train, y_test = train_test_split(movie.data, movie.target, test_size=0.2, random_state=6251)"
   ]
  },
  {
   "cell_type": "code",
   "execution_count": 31,
   "metadata": {},
   "outputs": [],
   "source": [
    "movie_vectorizer = CountVectorizer(min_df=3, max_features=3000)\n",
    "train_counts = movie_vectorizer.fit_transform(X_train)"
   ]
  },
  {
   "cell_type": "code",
   "execution_count": 34,
   "metadata": {},
   "outputs": [],
   "source": [
    "from sklearn.linear_model import LogisticRegression\n",
    "from sklearn.naive_bayes import MultinomialNB\n",
    "\n",
    "clf = LogisticRegression(n_jobs=1000)\n",
    "clf.fit(train_counts, y_train)"
   ]
  },
  {
   "cell_type": "code",
   "execution_count": null,
   "metadata": {},
   "outputs": [],
   "source": []
  }
 ],
 "metadata": {
  "interpreter": {
   "hash": "82d8008f33518dcdfc51f842e20618c6264b9419d38a72b85fa8791b381b30f5"
  },
  "kernelspec": {
   "display_name": "Python 3.9.18 ('kalshi')",
   "language": "python",
   "name": "python3"
  },
  "language_info": {
   "codemirror_mode": {
    "name": "ipython",
    "version": 3
   },
   "file_extension": ".py",
   "mimetype": "text/x-python",
   "name": "python",
   "nbconvert_exporter": "python",
   "pygments_lexer": "ipython3",
   "version": "3.9.18"
  },
  "orig_nbformat": 4
 },
 "nbformat": 4,
 "nbformat_minor": 2
}
